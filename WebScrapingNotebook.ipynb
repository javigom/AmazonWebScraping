{
 "cells": [
  {
   "cell_type": "code",
   "execution_count": 356,
   "metadata": {
    "scrolled": true
   },
   "outputs": [],
   "source": [
    "# pip install selenium\n",
    "# pip install requests"
   ]
  },
  {
   "cell_type": "code",
   "execution_count": 357,
   "metadata": {},
   "outputs": [],
   "source": [
    "from selenium import webdriver\n",
    "from selenium.webdriver.common.by import By\n",
    "from selenium.webdriver.common.keys import Keys\n",
    "import pandas as pd"
   ]
  },
  {
   "cell_type": "code",
   "execution_count": 363,
   "metadata": {},
   "outputs": [],
   "source": [
    "# Lanzamos el navegador\n",
    "driver = webdriver.Chrome()\n",
    "driver.get(\"https://www.amazon.es/\")"
   ]
  },
  {
   "cell_type": "code",
   "execution_count": 364,
   "metadata": {},
   "outputs": [],
   "source": [
    "# Aceptamos cookies\n",
    "driver.find_element(By.ID, \"sp-cc-accept\").click()"
   ]
  },
  {
   "cell_type": "code",
   "execution_count": 365,
   "metadata": {},
   "outputs": [],
   "source": [
    "# Introducimos en la barra de búsqueda \"tarjeta gráfica\"\n",
    "text_area = driver.find_element(By.ID, \"twotabsearchtextbox\")\n",
    "text_area.clear()\n",
    "text_area.send_keys(\"tarjeta gráfica\")"
   ]
  },
  {
   "cell_type": "code",
   "execution_count": 366,
   "metadata": {},
   "outputs": [],
   "source": [
    "# Pulsamos el botón de buscar\n",
    "button_search = driver.find_element(By.ID, \"nav-search-submit-button\")\n",
    "button_search.click()"
   ]
  },
  {
   "cell_type": "code",
   "execution_count": 367,
   "metadata": {},
   "outputs": [],
   "source": [
    "# Establecemos que nos muestre resultados de entre 50-100 euros\n",
    "price_list = driver.find_element(By.ID, \"priceRefinements\")\n",
    "items = price_list.find_elements(By.TAG_NAME, \"li\")\n",
    "\n",
    "for item in items:\n",
    "    if(item.text == \"50 - 100 EUR\"):\n",
    "        item_50_100 = item\n",
    "\n",
    "check_box = item_50_100.find_element(By.TAG_NAME, \"span\").find_element(By.TAG_NAME, \"a\").find_element(By.TAG_NAME, \"div\").find_element(By.TAG_NAME, \"i\")\n",
    "\n",
    "check_box.click()"
   ]
  },
  {
   "cell_type": "code",
   "execution_count": 371,
   "metadata": {},
   "outputs": [],
   "source": [
    "# Establecemos un orden según la valoración de los clientes\n",
    "order_button = driver.find_element(By.ID, \"s-result-sort-select\")\n",
    "order_button.send_keys(\"Valoración media de los clientes\")"
   ]
  },
  {
   "cell_type": "code",
   "execution_count": 391,
   "metadata": {
    "scrolled": true
   },
   "outputs": [],
   "source": [
    "# Resultados de la búsqueda\n",
    "result_list = driver.find_elements(By.CLASS_NAME, \"s-result-item s-asin sg-col-0-of-12 sg-col-16-of-20 sg-col s-widget-spacing-small sg-col-12-of-16\".replace(\" \", \".\"))\n",
    "\n",
    "# Listas donde almacenamos los resultados\n",
    "titulo = []\n",
    "valoracion = []\n",
    "precio = []\n",
    "tam_ram = []\n",
    "tipo_ram = []\n",
    "tarjeta = []\n",
    "velocidad = []\n",
    "\n",
    "# Seleccionamos los primeros 10 resultados\n",
    "for i in range(0, 10):\n",
    "        \n",
    "    # TÍTULO\n",
    "    titulo.append(result_list[i].find_element(By.CLASS_NAME, \"a-link-normal s-underline-text s-underline-link-text s-link-style a-text-normal\".replace(\" \", \".\")).text)\n",
    "    \n",
    "    # VALORACIÓN\n",
    "    val = result_list[i].find_element(By.CLASS_NAME, \"a-row.a-size-small\").find_element(By.TAG_NAME, \"span\")\n",
    "    valoracion.append(val.get_attribute(\"aria-label\").replace(\"de 5 estrellas\", \"\"))\n",
    "    \n",
    "    # PRECIO (algunos productos no lo tienen)\n",
    "    try:\n",
    "        precio.append(result_list[i].find_element(By.CLASS_NAME, \"a-price\").text)\n",
    "    except:\n",
    "        precio.append(\"-\")\n",
    "    \n",
    "    # SPECS (algunos productos no contienen ninguna especificación)               \n",
    "    try:\n",
    "        # Obtenemos los datos y los guardamos en las listas creadas anteriormente\n",
    "        data = result_list[i].find_elements(By.CLASS_NAME, \"s-product-specs-view\")[0].find_elements(By.CLASS_NAME, \"a-text-bold\")\n",
    "        tam_ram.append(data[0].text)\n",
    "        tipo_ram.append(data[1].text)\n",
    "        tarjeta.append(data[2].text)\n",
    "        velocidad.append(data[3].text)\n",
    "        \n",
    "    except:\n",
    "        tam_ram.append(\"-\")\n",
    "        tipo_ram.append(\"-\")\n",
    "        tarjeta.append(\"-\")\n",
    "        velocidad.append(\"-\")\n"
   ]
  },
  {
   "cell_type": "code",
   "execution_count": 394,
   "metadata": {
    "scrolled": true
   },
   "outputs": [
    {
     "name": "stdout",
     "output_type": "stream",
     "text": [
      "Producto  1\n",
      "TÍTULO:  Asus GT730-SL - Tarjeta gráfica de 2 GB GDDR5 (DVI, HDMI, 902 MHz, PCI Express 2.0)\n",
      "VALORACIÓN:  4,6 \n",
      "PRECIO:  -\n",
      "TAMAÑO RAM:  2048\n",
      "TIPO RAM:  caché L2\n",
      "TARJETA GRÁFICA:  PCI-E\n",
      "VELOCIDAD MEMORIA:  0 MHz\n",
      "===========================\n",
      "Producto  2\n",
      "TÍTULO:  MSI N730K-2GD3H/LP NVIDIA GeForce GT 730 2GB - Tarjeta gráfica (Pasivo, NVIDIA, GeForce GT 730, GDDR3, PCI Express 2.0, 4096 x 2160 Pixeles)\n",
      "VALORACIÓN:  4,5 \n",
      "PRECIO:  -\n",
      "TAMAÑO RAM:  2 GB\n",
      "TIPO RAM:  MicroDIMM\n",
      "TARJETA GRÁFICA:  PCI-Express x16\n",
      "VELOCIDAD MEMORIA:  1600 MHz\n",
      "===========================\n",
      "Producto  3\n",
      "TÍTULO:  nVIDIA NVS 315 - Tarjeta gráfica de 1 GB GDDR3\n",
      "VALORACIÓN:  4,5 \n",
      "PRECIO:  134,11€\n",
      "TAMAÑO RAM:  -\n",
      "TIPO RAM:  DDR3 SDRAM\n",
      "TARJETA GRÁFICA:  PCI-E\n",
      "VELOCIDAD MEMORIA:  0 GHz\n",
      "===========================\n",
      "Producto  4\n",
      "TÍTULO:  Gigabyte GV-N730D3-2GI (Rev. 2.0) Tarjeta gráfica - GF GT 730 - 2 GB\n",
      "VALORACIÓN:  4,5 \n",
      "PRECIO:  98,19€\n",
      "TAMAÑO RAM:  2048\n",
      "TIPO RAM:  DDR3 SDRAM\n",
      "TARJETA GRÁFICA:  PCI-E\n",
      "VELOCIDAD MEMORIA:  1200 MHz\n",
      "===========================\n",
      "Producto  5\n",
      "TÍTULO:  MSI N210-MD1G/D3 GeForce 210 1GB GDDR3 - Tarjeta gráfica (GeForce 210, 1 GB, GDDR3, 64 bit, 2560 x 1600 Pixeles, PCI Express 2.0)\n",
      "VALORACIÓN:  4,4 \n",
      "PRECIO:  93,27€\n",
      "TAMAÑO RAM:  1 GB\n",
      "TIPO RAM:  DDR3 SDRAM\n",
      "TARJETA GRÁFICA:  PCI-E\n",
      "VELOCIDAD MEMORIA:  1000 MHz\n",
      "===========================\n",
      "Producto  6\n",
      "TÍTULO:  ASUS GT1030-2G-BRK - Tarjeta gráfica (GeForce GT 1030, 2 GB, GDDR5, 64 bit, 7680 x 4320 Pixeles, PCI Express 3.0)\n",
      "VALORACIÓN:  4,4 \n",
      "PRECIO:  127,49€\n",
      "TAMAÑO RAM:  2 GB\n",
      "TIPO RAM:  DDR5 SDRAM\n",
      "TARJETA GRÁFICA:  PCI-E\n",
      "VELOCIDAD MEMORIA:  1200 MHz\n",
      "===========================\n",
      "Producto  7\n",
      "TÍTULO:  StarTech.com PEX1PLP - Adaptador Tarjeta PCIe Perfil bajo Paralelo de 1 Puerto\n",
      "VALORACIÓN:  4,4 \n",
      "PRECIO:  -\n",
      "TAMAÑO RAM:  -\n",
      "TIPO RAM:  -\n",
      "TARJETA GRÁFICA:  -\n",
      "VELOCIDAD MEMORIA:  -\n",
      "===========================\n",
      "Producto  8\n",
      "TÍTULO:  Palit NEAT7300HD46H - Tarjeta gráfica (PCI-E GT730 2048 MB Passive 64bit DDR3 DVI/HDMI/VGA)\n",
      "VALORACIÓN:  4,3 \n",
      "PRECIO:  79,91€\n",
      "TAMAÑO RAM:  2048 MB\n",
      "TIPO RAM:  DDR3 SDRAM\n",
      "TARJETA GRÁFICA:  PCI-E\n",
      "VELOCIDAD MEMORIA:  7010 MHz\n",
      "===========================\n",
      "Producto  9\n",
      "TÍTULO:  Gigabyte GV-N710D3-2GL REV2.0 - Tarjeta gráfica NVIDIA GeForce GT 710 954 MHz, 2048 MB, PCI Express\n",
      "VALORACIÓN:  4,3 \n",
      "PRECIO:  75,00€\n",
      "TAMAÑO RAM:  512\n",
      "TIPO RAM:  MicroDIMM\n",
      "TARJETA GRÁFICA:  PCI-Express x16\n",
      "VELOCIDAD MEMORIA:  1600 MHz\n",
      "===========================\n",
      "Producto  10\n",
      "TÍTULO:  MSI - N730K-2GD3H/LPV1 - Tarjeta Gráfica Profesional NVIDIA, PCI-E 2.0, 64-bits, DL-DVI-D, HDMI, D-Sub\n",
      "VALORACIÓN:  4,3 \n",
      "PRECIO:  76,99€\n",
      "TAMAÑO RAM:  2 GB\n",
      "TIPO RAM:  L2 cache\n",
      "TARJETA GRÁFICA:  PCI-Express x16\n",
      "VELOCIDAD MEMORIA:  902 MHz\n",
      "===========================\n"
     ]
    }
   ],
   "source": [
    "# Para imprimir los resultados por pantalla\n",
    "for i in range(0, len(titulos)):\n",
    "    print(\"Producto \", i + 1)\n",
    "    print(\"TÍTULO: \",  titulo[i])\n",
    "    print(\"VALORACIÓN: \", valoracion[i])\n",
    "    print(\"PRECIO: \", precio[i])\n",
    "    print(\"TAMAÑO RAM: \", tam_ram[i])\n",
    "    print(\"TIPO RAM: \", tipo_ram[i])\n",
    "    print(\"TARJETA GRÁFICA: \", tarjeta[i])\n",
    "    print(\"VELOCIDAD MEMORIA: \", velocidad[i])\n",
    "    print(\"===========================\")"
   ]
  },
  {
   "cell_type": "code",
   "execution_count": 398,
   "metadata": {},
   "outputs": [],
   "source": [
    "# Guardamos los resultados en un DataFrame de Pandas\n",
    "df = pd.DataFrame()\n",
    "df['Titulo'] = titulo\n",
    "df['Valoracion'] = valoracion\n",
    "df['Precio'] = precio\n",
    "df['Tamaño RAM'] = tam_ram\n",
    "df['Tipo RAM'] = tipo_ram\n",
    "df['Tarjeta Gráfica'] = tarjeta\n",
    "df['Velocidad Memoria'] = velocidad\n",
    "\n",
    "# print(df)\n",
    "\n",
    "# Lo guardamos en un csv\n",
    "df.to_csv('search_results.csv', header = True)"
   ]
  }
 ],
 "metadata": {
  "kernelspec": {
   "display_name": "Python 3",
   "language": "python",
   "name": "python3"
  },
  "language_info": {
   "codemirror_mode": {
    "name": "ipython",
    "version": 3
   },
   "file_extension": ".py",
   "mimetype": "text/x-python",
   "name": "python",
   "nbconvert_exporter": "python",
   "pygments_lexer": "ipython3",
   "version": "3.8.5"
  }
 },
 "nbformat": 4,
 "nbformat_minor": 4
}
